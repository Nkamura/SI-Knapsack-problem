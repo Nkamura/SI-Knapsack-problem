{
 "cells": [
  {
   "cell_type": "code",
   "execution_count": 30,
   "metadata": {},
   "outputs": [],
   "source": [
    "import numpy as np\n",
    "\n",
    "# Function created to initialize the Item vector - implement one that gets the data from a .txt file\n",
    "# https://awari.com.br/vetor-python-aprenda-a-utilizar-a-linguagem-de-programacao-para-manipular-vetores/\n",
    "def askForItens():\n",
    "    qntd_itens = int(input(\"Type the number of items:\"))\n",
    "    #Create maze with dimension 2xItems    \n",
    "    matriz = np.zeros((2, qntd_itens))\n",
    "    \n",
    "    ## Fill Valor\n",
    "    for i in range(qntd_itens):\n",
    "        matriz[0][i] = int(input(f\"Type the Value for each item {i+1}:\"))\n",
    "    ## Fill Peso\n",
    "    for i in range(qntd_itens):\n",
    "        matriz[1, i] = float(input(f\"Type the Weight for each item {i+1}: \"))\n",
    "    return matriz"
   ]
  },
  {
   "cell_type": "code",
   "execution_count": 31,
   "metadata": {},
   "outputs": [],
   "source": [
    "# Fornecer uma opção randomica de itens que estariam inseridos nessa primeira lista de solução\n",
    "def initRandom(size):\n",
    "    # 100% random! \n",
    "    randomVector = np.random.choice([True, False], size=size)\n",
    "    return randomVector"
   ]
  },
  {
   "cell_type": "code",
   "execution_count": 32,
   "metadata": {},
   "outputs": [],
   "source": [
    "import random\n",
    "import math\n",
    "\n",
    "# Calcular o valor total a mochila com os itens dentro dela\n",
    "def calculate_value(solution, original, capacity):\n",
    "    total_weight = 0\n",
    "    total_value = 0\n",
    "\n",
    "    # Loop para percorrer o vetor inteiro\n",
    "    for i in range(len(solution)):\n",
    "        # Calcular o peso e valor total para cada item que estiver presente \n",
    "        if(solution[i] == 1):\n",
    "            # Coluna o item que foi selecionado\n",
    "            total_weight += original[0][i]\n",
    "            total_value += original[1][i]\n",
    "            # Desconsidera se tiver ultrapassado a capacidade\n",
    "            if(total_weight > capacity):\n",
    "                # Retorna um valor negativo para indicar que estourou\n",
    "                return -1\n",
    "    return total_value"
   ]
  },
  {
   "cell_type": "code",
   "execution_count": 33,
   "metadata": {},
   "outputs": [],
   "source": [
    "def RandomNeighbor(solution):\n",
    "    # [:] é utilizado para criar uma cópia sem referenciar o mesmo espaço de memória\n",
    "    # já que, se for apontando os 2 para o mesmo lugar, se eu alterar altera ambos - PARA VETORES\n",
    "    tempSolution = solution[:]\n",
    "    # Ver quais itens estarão na mochila - pelo índice \n",
    "    index = random.randint(0, len(solution) - 1)\n",
    "    # 1 - 0 = 1  e  1 - 1 = 0\n",
    "    tempSolution[index] = 1 - tempSolution[index]  # inverte o valor de 0 para 1 ou de 1 para 0\n",
    "    return tempSolution"
   ]
  },
  {
   "cell_type": "code",
   "execution_count": 37,
   "metadata": {},
   "outputs": [],
   "source": [
    "def solveKnapsack():\n",
    "    # Perguntar a capacidade total da Mochila\n",
    "    # capacity = int(input(\"Bag Capacity: \"))\n",
    "    capacity = 9\n",
    "\n",
    "    # Comecar perguntando sobre os items\n",
    "    #originalValues = askForItens()\n",
    "    originalValues = np.array([[2, 3, 4, 5],[3, 4, 5, 6]])\n",
    "\n",
    "    # Definir estados Iniciais - Aleatório\n",
    "    currentSolution = initRandom(originalValues.shape[1])\n",
    "    currentValue = calculate_value(currentSolution, originalValues, capacity)\n",
    "    #print(f\"Vetor Inicial: {initialSolution}\")\n",
    "    #print(f\"Valor Atual: {currentValue}\")\n",
    "\n",
    "    # A melhor solução é a que se tem no momento\n",
    "    bestSolution = currentSolution [:]\n",
    "    bestValue = currentValue\n",
    "\n",
    "    # Temperatura inicial\n",
    "    # Temperatura recebe um valor \"aleatório\" que vai dimiuindo conforme aumentar o número e iterações\n",
    "    temperature = 1000\n",
    "    decreaseFactor = 0.92\n",
    "    stopTemp = 10\n",
    "\n",
    "    # Stuck count para \"sair\" de loops ruins\n",
    "    stuckCount = 0\n",
    "    maxStuckCount = 1000\n",
    "\n",
    "    # Loop infinito - O critério de parada é se não vai aceitar mais variações (\"Temperatura\"<=0)\n",
    "    # Loop infinito - O critério de parada é se não vai aceitar mais variações (\"Temperatura\"<=0)\n",
    "    while temperature > stopTemp:\n",
    "        # Ver Neighbor\n",
    "        Neighbor = RandomNeighbor(currentSolution)\n",
    "        valorNeighbor = calculate_value(Neighbor, originalValues, capacity)\n",
    "        \n",
    "        # Fit = Próximo - Atual > para ver se é melhor que a atual\n",
    "        fitness = valorNeighbor - currentValue\n",
    "        \n",
    "        # Se Valor Neighbor for MAIOR que o valor ATUAL\n",
    "        if fitness > 0:\n",
    "            # Se for MAIOR: Atual = Próximo\n",
    "            currentSolution = Neighbor\n",
    "            currentValue = valorNeighbor\n",
    "        # Se NÃO for MAIOR\n",
    "        else:\n",
    "            # Se existe a probabilidade de aceitar\n",
    "            if random.uniform(0, 1) < math.exp(fitness / temperature):\n",
    "                # Então Atual = Próximo\n",
    "                currentSolution = Neighbor\n",
    "                currentValue = valorNeighbor\n",
    "        \n",
    "        # Guarda o maior\n",
    "        if currentValue > bestValue:\n",
    "            bestValue = currentValue\n",
    "            bestSolution = currentSolution [:]\n",
    "\n",
    "        temperature *= decreaseFactor\n",
    "\n",
    "    return bestSolution, bestValue\n"
   ]
  },
  {
   "cell_type": "code",
   "execution_count": 41,
   "metadata": {},
   "outputs": [
    {
     "name": "stdout",
     "output_type": "stream",
     "text": [
      "Melhor solução: [False False False False] com valor 12\n"
     ]
    }
   ],
   "source": [
    "bestSolution, bestValue = solveKnapsack()\n",
    "print(f'Melhor solução: {bestSolution} com valor {bestValue}')"
   ]
  },
  {
   "cell_type": "code",
   "execution_count": 36,
   "metadata": {},
   "outputs": [
    {
     "name": "stdout",
     "output_type": "stream",
     "text": [
      "Melhor solução: [1, 1, 1, 0]\n",
      "Valor total da melhor solução: 12\n"
     ]
    }
   ],
   "source": []
  },
  {
   "cell_type": "code",
   "execution_count": null,
   "metadata": {},
   "outputs": [],
   "source": []
  }
 ],
 "metadata": {
  "kernelspec": {
   "display_name": "Python 3",
   "language": "python",
   "name": "python3"
  },
  "language_info": {
   "codemirror_mode": {
    "name": "ipython",
    "version": 3
   },
   "file_extension": ".py",
   "mimetype": "text/x-python",
   "name": "python",
   "nbconvert_exporter": "python",
   "pygments_lexer": "ipython3",
   "version": "3.11.5"
  }
 },
 "nbformat": 4,
 "nbformat_minor": 2
}
