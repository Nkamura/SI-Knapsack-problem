{
 "cells": [
  {
   "cell_type": "code",
   "execution_count": 51,
   "metadata": {},
   "outputs": [],
   "source": [
    "import numpy as np\n",
    "\n",
    "# Function created to initialize the Item vector - implement one that gets the data from a .txt file\n",
    "# https://awari.com.br/vetor-python-aprenda-a-utilizar-a-linguagem-de-programacao-para-manipular-vetores/\n",
    "def askForItens():\n",
    "    qntd_itens = int(input(\"Type the number of items:\"))\n",
    "    #Create maze with dimension 2xItems    \n",
    "    matriz = np.zeros((2, qntd_itens))\n",
    "    \n",
    "    ## Fill Valor\n",
    "    for i in range(qntd_itens):\n",
    "        matriz[0][i] = int(input(f\"Type the Value for each item {i+1}:\"))\n",
    "    ## Fill Peso\n",
    "\n",
    "    for i in range(qntd_itens):\n",
    "        matriz[1, i] = float(input(f\"Type the Weight for each item {i+1}: \"))\n",
    "\n",
    "    return matriz\n",
    "\n"
   ]
  },
  {
   "cell_type": "code",
   "execution_count": 52,
   "metadata": {},
   "outputs": [],
   "source": [
    "import random\n",
    "import math\n",
    "\n",
    "# Calcular o valor total a mochila com os itens dentro dela\n",
    "def calculate_value(solution, original, capacity):\n",
    "    total_weight = 0\n",
    "    total_value = 0\n",
    "\n",
    "    # Loop para percorrer o vetor inteiro\n",
    "    for i in range(len(solution)):\n",
    "        # Calcular o peso e valor total para cada item que estiver presente \n",
    "        if(solution[i] == 1):\n",
    "            # Coluna o item que foi selecionado\n",
    "            total_weight += original[0][i]\n",
    "            total_value += original[1][i]\n",
    "            # Desconsidera se tiver ultrapassado a capacidade\n",
    "            if(total_weight > capacity):\n",
    "                # Retorna um valor negativo para indicar que estourou\n",
    "                return -1\n",
    "    return total_value\n",
    "\n",
    "# Fornecer uma opção randomica de itens que estariam inseridos nessa primeira lista de solução\n",
    "def initRandom(size):\n",
    "    # 100% random! \n",
    "    randomVector = np.random.choice([True, False], size=size)\n",
    "    return randomVector"
   ]
  },
  {
   "cell_type": "code",
   "execution_count": null,
   "metadata": {},
   "outputs": [],
   "source": [
    "# Perguntar a capacidade total da Mochila\n",
    "# capacity = int(input(\"Bag Capacity: \"))\n",
    "capacity = 9\n",
    "\n",
    "# Comecar perguntando sobre os items\n",
    "#originalValues = askForItens()\n",
    "originalValues = np.array([[2, 3, 4, 5],[3, 4, 5, 6]])\n",
    "\n",
    "# Definir estados Iniciais - Aleatório\n",
    "initialSolution = initRandom(originalValues.shape[1])\n",
    "\n",
    "print(f\"Vetor Inicial: {initialSolution}\")\n",
    "currentValue = calculate_value(initialSolution, originalValues, capacity)\n",
    "print(f\"Valor Atual: {currentValue}\")\n",
    "\n",
    "# A melhor solução é a que se tem no momento\n",
    "bestSolution = initialSolution\n",
    "bestValue = currentValue\n",
    "\n",
    "# Loop infinito - O critério de parada é se não vai aceitar mais variações (\"Temperatura\")\n",
    "solutionFound = 0\n",
    "while (solutionFound == 0):\n",
    "    # Temperatura recebe um valor \"aleatório\" que vai dimiuindo conforme aumentar o número e iterações\n",
    "\n",
    "    # Se a Temperatura for igual a Zero - acaba o algoritmo\n",
    "\n",
    "    # Se T!= 0 : Escolhe vizinho aleatório\n",
    "\n",
    "    # Se Valor VIZINHO for MAIOR que o valor ATUAL \n",
    "    # Próximo - Atual\n",
    "    \n",
    "    # Se for MAIOR: Atual = Próximo \n",
    "        \n",
    "    # Se NÃO for MAIOR\n",
    "        # Se existe a probabilidade de aceitar\n",
    "            # Então Atual = Próximo\n",
    "    solutionFound = 1"
   ]
  },
  {
   "cell_type": "code",
   "execution_count": null,
   "metadata": {},
   "outputs": [],
   "source": []
  }
 ],
 "metadata": {
  "kernelspec": {
   "display_name": "Python 3",
   "language": "python",
   "name": "python3"
  },
  "language_info": {
   "codemirror_mode": {
    "name": "ipython",
    "version": 3
   },
   "file_extension": ".py",
   "mimetype": "text/x-python",
   "name": "python",
   "nbconvert_exporter": "python",
   "pygments_lexer": "ipython3",
   "version": "3.11.5"
  }
 },
 "nbformat": 4,
 "nbformat_minor": 2
}
