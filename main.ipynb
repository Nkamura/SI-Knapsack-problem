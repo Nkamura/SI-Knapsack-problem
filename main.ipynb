{
 "cells": [
  {
   "cell_type": "code",
   "execution_count": 115,
   "metadata": {},
   "outputs": [],
   "source": [
    "import numpy as np\n",
    "\n",
    "# Function created to initialize the Item vector - implement one that gets the data from a .txt file\n",
    "# https://awari.com.br/vetor-python-aprenda-a-utilizar-a-linguagem-de-programacao-para-manipular-vetores/\n",
    "def askForItens():\n",
    "    qntd_itens = int(input(\"Type the number of items:\"))\n",
    "    #Create maze with dimension 2xItems    \n",
    "    matriz = np.zeros((2, qntd_itens))\n",
    "    \n",
    "    ## Fill Valor\n",
    "    for i in range(qntd_itens):\n",
    "        matriz[0][i] = int(input(f\"Type the Value for each item {i+1}:\"))\n",
    "    ## Fill Peso\n",
    "    for i in range(qntd_itens):\n",
    "        matriz[1, i] = float(input(f\"Type the Weight for each item {i+1}: \"))\n",
    "    return matriz"
   ]
  },
  {
   "cell_type": "code",
   "execution_count": 116,
   "metadata": {},
   "outputs": [],
   "source": [
    "# Fornecer uma opção randomica de itens que estariam inseridos nessa primeira lista de solução\n",
    "def initRandom(size):\n",
    "    # 100% random! \n",
    "    randomVector = np.random.choice([True, False], size=size)\n",
    "    return randomVector"
   ]
  },
  {
   "cell_type": "code",
   "execution_count": 117,
   "metadata": {},
   "outputs": [],
   "source": [
    "import random\n",
    "import math\n",
    "\n",
    "# Calcular o valor total a mochila com os itens dentro dela\n",
    "def calculate_value(solution, original, capacity):\n",
    "    total_weight = 0\n",
    "    total_value = 0\n",
    "\n",
    "    # Loop para percorrer o vetor inteiro\n",
    "    for i in range(len(solution)):\n",
    "        # Calcular o peso e valor total para cada item que estiver presente \n",
    "        if(solution[i] == 1):\n",
    "            # Coluna o item que foi selecionado\n",
    "            total_weight += original[0][i]\n",
    "            total_value += original[1][i]\n",
    "            # Desconsidera se tiver ultrapassado a capacidade\n",
    "            if(total_weight > capacity):\n",
    "                # Retorna um valor negativo para indicar que estourou\n",
    "                return 0\n",
    "    return total_value"
   ]
  },
  {
   "cell_type": "code",
   "execution_count": 118,
   "metadata": {},
   "outputs": [],
   "source": [
    "def RandomNeighbor(solution):\n",
    "    # [:] é utilizado para criar uma cópia sem referenciar o mesmo espaço de memória\n",
    "    # já que, se for apontando os 2 para o mesmo lugar, se eu alterar altera ambos - PARA VETORES\n",
    "    tempSolution = solution[:]\n",
    "    # Ver quais itens estarão na mochila - pelo índice \n",
    "    index = random.randint(0, len(solution) - 1)\n",
    "    # 1 - 0 = 1  e  1 - 1 = 0\n",
    "    tempSolution[index] = 1 - tempSolution[index]  # inverte o valor de 0 para 1 ou de 1 para 0\n",
    "    return tempSolution"
   ]
  },
  {
   "cell_type": "code",
   "execution_count": 132,
   "metadata": {},
   "outputs": [],
   "source": [
    "import copy\n",
    "def solveKnapsack():\n",
    "    # Perguntar a capacidade total da Mochila\n",
    "    # capacity = int(input(\"Bag Capacity: \"))\n",
    "    capacity = 20\n",
    "\n",
    "    # Comecar perguntando sobre os items\n",
    "    #originalValues = askForItens()\n",
    "    originalValues = np.array([\n",
    "    [2, 3, 4, 5, 9, 7, 1, 6, 4, 8, 3, 5],  # Pesos\n",
    "    [3, 4, 5, 8, 10, 7, 2, 9, 6, 12, 5, 7]  # Valores\n",
    "])\n",
    "\n",
    "    # Definir estados Iniciais - Aleatório\n",
    "    currentSolution = initRandom(originalValues.shape[1])\n",
    "    currentValue = calculate_value(currentSolution, originalValues, capacity)\n",
    "    #print(f\"Vetor Inicial: {initialSolution}\")\n",
    "    #print(f\"Valor Atual: {currentValue}\")\n",
    "\n",
    "    # A melhor solução é a que se tem no momento\n",
    "    bestSolution = currentSolution [:]\n",
    "    bestValue = currentValue\n",
    "\n",
    "    # Temperatura inicial\n",
    "    # Temperatura recebe um valor \"aleatório\" que vai dimiuindo conforme aumentar o número e iterações\n",
    "    temperature = 10000\n",
    "    decreaseFactor = 0.95\n",
    "    stopTemp = 10\n",
    "\n",
    "    # Stuck count para \"sair\" de loops ruins\n",
    "    stuckCount = 0\n",
    "    maxStuckCount = 1000\n",
    "\n",
    "    # Loop infinito - O critério de parada é se não vai aceitar mais variações (\"Temperatura\"<=0)\n",
    "    # Loop infinito - O critério de parada é se não vai aceitar mais variações (\"Temperatura\"<=0)\n",
    "    while temperature > stopTemp:\n",
    "        # Ver Neighbor\n",
    "        Neighbor = RandomNeighbor(currentSolution)\n",
    "        valorNeighbor = calculate_value(Neighbor, originalValues, capacity)\n",
    "        \n",
    "        # Fit = Próximo - Atual > para ver se é melhor que a atual\n",
    "        fitness = valorNeighbor - currentValue\n",
    "        \n",
    "        # Se Valor Neighbor for MAIOR que o valor ATUAL\n",
    "        if fitness > 0:\n",
    "            # Se for MAIOR: Atual = Próximo\n",
    "            currentSolution = copy.deepcopy(Neighbor)\n",
    "            currentValue = valorNeighbor\n",
    "        # Se NÃO for MAIOR\n",
    "        else:\n",
    "            # Se existe a probabilidade de aceitar\n",
    "            if random.uniform(0, 1) < math.exp(fitness / temperature):\n",
    "                # Então Atual = Próximo\n",
    "                currentSolution = copy.deepcopy(Neighbor)\n",
    "                currentValue = valorNeighbor\n",
    "        \n",
    "        # Guarda o maior\n",
    "        if currentValue > bestValue:\n",
    "            bestValue = currentValue\n",
    "            bestSolution = copy.deepcopy(currentSolution)\n",
    "\n",
    "        #temperature *= decreaseFactor\n",
    "        temperature = temperature - decreaseFactor\n",
    "\n",
    "    return bestSolution, bestValue\n"
   ]
  },
  {
   "cell_type": "code",
   "execution_count": 157,
   "metadata": {},
   "outputs": [
    {
     "name": "stdout",
     "output_type": "stream",
     "text": [
      "Melhor solução: [ True False False  True False False  True False  True  True False False] com valor 31\n"
     ]
    }
   ],
   "source": [
    "bestSolution, bestValue = solveKnapsack()\n",
    "print(f'Melhor solução: {bestSolution} com valor {bestValue}')"
   ]
  },
  {
   "cell_type": "code",
   "execution_count": 121,
   "metadata": {},
   "outputs": [
    {
     "ename": "SyntaxError",
     "evalue": "invalid syntax (1455806134.py, line 1)",
     "output_type": "error",
     "traceback": [
      "\u001b[1;36m  Cell \u001b[1;32mIn[121], line 1\u001b[1;36m\u001b[0m\n\u001b[1;33m    O problema que você estava enfrentando com o código estava relacionado ao modo como o Python lida com referências de listas.\u001b[0m\n\u001b[1;37m      ^\u001b[0m\n\u001b[1;31mSyntaxError\u001b[0m\u001b[1;31m:\u001b[0m invalid syntax\n"
     ]
    }
   ],
   "source": [
    "O problema que você estava enfrentando com o código estava relacionado ao modo como o Python lida com referências de listas.\n",
    "\n",
    "Explicando:\n",
    "No Python, quando você faz algo como bestSolution = currentSolution[:], você está criando uma cópia superficial (shallow copy) da lista currentSolution. Ou seja, você cria uma nova lista, mas essa nova lista compartilha os mesmos objetos que a lista original. Isso funciona bem quando os elementos da lista são valores simples, como números. Porém, em alguns casos, se os objetos na lista forem mais complexos (por exemplo, listas dentro de listas ou objetos mutáveis), esse tipo de cópia pode acabar criando referências indesejadas.\n",
    "\n",
    "No seu caso, como estamos lidando com listas que representam soluções, fazer uma cópia superficial com [:] pode ainda manter uma conexão entre bestSolution e currentSolution. Se você modifica currentSolution depois, as alterações podem, acidentalmente, refletir também em bestSolution, já que as duas soluções podem ainda estar referenciando os mesmos objetos. Isso explica o comportamento inesperado de bestSolution mudando no final do algoritmo.\n",
    "\n",
    "Cópia superficial vs. Cópia profunda:\n",
    "Cópia superficial ([:]): Cria uma nova lista, mas os elementos da nova lista são apenas referências aos objetos originais. Isso pode ser problemático se esses objetos forem mutáveis.\n",
    "\n",
    "Exemplo:\n",
    "\n",
    "python\n",
    "Copiar código\n",
    "lista1 = [1, 2, 3]\n",
    "lista2 = lista1[:]\n",
    "lista1[0] = 99\n",
    "# lista2[0] ainda será 1, pois a lista contém apenas valores simples (números).\n",
    "Cópia profunda (copy.deepcopy): Cria uma nova lista e também copia todos os objetos internos, criando cópias completas e independentes. Isso garante que mesmo que você altere a nova lista ou os objetos dentro dela, a original permanecerá inalterada.\n",
    "\n",
    "Exemplo:\n",
    "\n",
    "python\n",
    "Copiar código\n",
    "import copy\n",
    "lista1 = [[1, 2], [3, 4]]\n",
    "lista2 = copy.deepcopy(lista1)\n",
    "lista1[0][0] = 99\n",
    "# lista2[0][0] ainda será 1, porque agora cada lista interna também foi copiada.\n",
    "O Problema no Algoritmo de Têmpera Simulada:\n",
    "Na têmpera simulada, o algoritmo tenta explorar diferentes soluções (currentSolution) e manter a melhor solução encontrada até o momento (bestSolution). No entanto, ao usar [:] para copiar currentSolution para bestSolution, você estava criando uma cópia superficial. Isso funcionava bem até o ponto em que currentSolution era alterada mais tarde no algoritmo, levando a alterações inesperadas também em bestSolution, já que ambos ainda estavam \"conectados\" por referências internas.\n",
    "\n",
    "Isso fazia parecer que bestSolution estava sendo alterada no final do algoritmo, quando, na verdade, ela estava sendo modificada indiretamente quando currentSolution era atualizada.\n",
    "\n",
    "Solução com deepcopy:\n",
    "Ao substituir [:] por copy.deepcopy(), garantimos que bestSolution é uma cópia totalmente independente de currentSolution. Agora, qualquer modificação em currentSolution não afeta bestSolution, garantindo que a melhor solução encontrada até aquele momento seja preservada corretamente, sem alterações inesperadas."
   ]
  }
 ],
 "metadata": {
  "kernelspec": {
   "display_name": "Python 3",
   "language": "python",
   "name": "python3"
  },
  "language_info": {
   "codemirror_mode": {
    "name": "ipython",
    "version": 3
   },
   "file_extension": ".py",
   "mimetype": "text/x-python",
   "name": "python",
   "nbconvert_exporter": "python",
   "pygments_lexer": "ipython3",
   "version": "3.11.5"
  }
 },
 "nbformat": 4,
 "nbformat_minor": 2
}
